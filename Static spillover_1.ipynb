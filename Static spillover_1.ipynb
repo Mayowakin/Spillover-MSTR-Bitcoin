{
 "cells": [
  {
   "cell_type": "markdown",
   "id": "6b582734-de4d-4239-9db9-6ec5170118fb",
   "metadata": {},
   "source": [
    "# Forecasting with System of Equation"
   ]
  },
  {
   "cell_type": "markdown",
   "id": "69a6c0a5-c94a-4c6e-a790-c69e8fb7f443",
   "metadata": {},
   "source": [
    "## Data Import "
   ]
  },
  {
   "cell_type": "code",
   "execution_count": 3,
   "id": "3625b7e7-2542-41c6-addc-3e1bb79fb336",
   "metadata": {},
   "outputs": [],
   "source": [
    "import pandas as pd \n",
    "\n",
    "df_ts = pd.read_excel(\"MSTR-Bitcoin (2018-2020).xlsx\", index_col=0)\n",
    "\n",
    "### convert to log return\n",
    "\n",
    "import numpy as np \n",
    "LR_ts = np.log(df_ts / df_ts.shift(1))\n",
    "\n",
    "### Dropping the NAs\n",
    "LR_ts = LR_ts.dropna()"
   ]
  },
  {
   "cell_type": "code",
   "execution_count": 4,
   "id": "ecb9027e-b880-4789-935c-484cf903e677",
   "metadata": {},
   "outputs": [
    {
     "data": {
      "text/html": [
       "\n",
       "        <iframe\n",
       "            width=\"100%\"\n",
       "            height=\"475\"\n",
       "            src=\"http://Akinlude:40000/dtale/iframe/1\"\n",
       "            frameborder=\"0\"\n",
       "            allowfullscreen\n",
       "            \n",
       "        ></iframe>\n",
       "        "
      ],
      "text/plain": [
       "<IPython.lib.display.IFrame at 0x1a120c07050>"
      ]
     },
     "metadata": {},
     "output_type": "display_data"
    },
    {
     "data": {
      "text/plain": [
       "<bound method DtaleData.open_browser of >"
      ]
     },
     "execution_count": 4,
     "metadata": {},
     "output_type": "execute_result"
    }
   ],
   "source": [
    "import dtale\n",
    "\n",
    "d = dtale.show(df_ts)\n",
    "d.open_browser"
   ]
  },
  {
   "cell_type": "markdown",
   "id": "fdbe623b-e665-47a8-a994-d1cf316611f5",
   "metadata": {},
   "source": [
    "## Vector Autoregression"
   ]
  },
  {
   "cell_type": "code",
   "execution_count": 5,
   "id": "8ee4aaf4-7d9b-4293-b743-c1a84835f702",
   "metadata": {},
   "outputs": [],
   "source": [
    "var_df = LR_ts.iloc[:,0:2]"
   ]
  },
  {
   "cell_type": "code",
   "execution_count": 6,
   "id": "e89b6515-a065-4cd8-b6a6-ed41a9456ee1",
   "metadata": {},
   "outputs": [
    {
     "data": {
      "text/html": [
       "<div>\n",
       "<style scoped>\n",
       "    .dataframe tbody tr th:only-of-type {\n",
       "        vertical-align: middle;\n",
       "    }\n",
       "\n",
       "    .dataframe tbody tr th {\n",
       "        vertical-align: top;\n",
       "    }\n",
       "\n",
       "    .dataframe thead th {\n",
       "        text-align: right;\n",
       "    }\n",
       "</style>\n",
       "<table border=\"1\" class=\"dataframe\">\n",
       "  <thead>\n",
       "    <tr style=\"text-align: right;\">\n",
       "      <th></th>\n",
       "      <th>MSTR</th>\n",
       "      <th>Bitcoin</th>\n",
       "    </tr>\n",
       "    <tr>\n",
       "      <th>Date</th>\n",
       "      <th></th>\n",
       "      <th></th>\n",
       "    </tr>\n",
       "  </thead>\n",
       "  <tbody>\n",
       "    <tr>\n",
       "      <th>2018-01-03</th>\n",
       "      <td>0.002201</td>\n",
       "      <td>0.016522</td>\n",
       "    </tr>\n",
       "    <tr>\n",
       "      <th>2018-01-04</th>\n",
       "      <td>0.010031</td>\n",
       "      <td>-0.005179</td>\n",
       "    </tr>\n",
       "    <tr>\n",
       "      <th>2018-01-08</th>\n",
       "      <td>0.011268</td>\n",
       "      <td>-0.000743</td>\n",
       "    </tr>\n",
       "    <tr>\n",
       "      <th>2018-01-09</th>\n",
       "      <td>0.014146</td>\n",
       "      <td>-0.029085</td>\n",
       "    </tr>\n",
       "    <tr>\n",
       "      <th>2018-01-10</th>\n",
       "      <td>-0.015408</td>\n",
       "      <td>-0.000350</td>\n",
       "    </tr>\n",
       "    <tr>\n",
       "      <th>...</th>\n",
       "      <td>...</td>\n",
       "      <td>...</td>\n",
       "    </tr>\n",
       "    <tr>\n",
       "      <th>2020-08-13</th>\n",
       "      <td>0.025303</td>\n",
       "      <td>0.003559</td>\n",
       "    </tr>\n",
       "    <tr>\n",
       "      <th>2020-08-14</th>\n",
       "      <td>-0.006230</td>\n",
       "      <td>0.013254</td>\n",
       "    </tr>\n",
       "    <tr>\n",
       "      <th>2020-08-17</th>\n",
       "      <td>0.072784</td>\n",
       "      <td>0.046177</td>\n",
       "    </tr>\n",
       "    <tr>\n",
       "      <th>2020-08-18</th>\n",
       "      <td>-0.024416</td>\n",
       "      <td>-0.024498</td>\n",
       "    </tr>\n",
       "    <tr>\n",
       "      <th>2020-08-19</th>\n",
       "      <td>-0.007296</td>\n",
       "      <td>-0.026200</td>\n",
       "    </tr>\n",
       "  </tbody>\n",
       "</table>\n",
       "<p>661 rows × 2 columns</p>\n",
       "</div>"
      ],
      "text/plain": [
       "                MSTR   Bitcoin\n",
       "Date                          \n",
       "2018-01-03  0.002201  0.016522\n",
       "2018-01-04  0.010031 -0.005179\n",
       "2018-01-08  0.011268 -0.000743\n",
       "2018-01-09  0.014146 -0.029085\n",
       "2018-01-10 -0.015408 -0.000350\n",
       "...              ...       ...\n",
       "2020-08-13  0.025303  0.003559\n",
       "2020-08-14 -0.006230  0.013254\n",
       "2020-08-17  0.072784  0.046177\n",
       "2020-08-18 -0.024416 -0.024498\n",
       "2020-08-19 -0.007296 -0.026200\n",
       "\n",
       "[661 rows x 2 columns]"
      ]
     },
     "execution_count": 6,
     "metadata": {},
     "output_type": "execute_result"
    }
   ],
   "source": [
    "var_df"
   ]
  },
  {
   "cell_type": "markdown",
   "id": "c5e4fdc8-8c2d-4420-b0df-851ec1219334",
   "metadata": {},
   "source": [
    "### Test for Stationarity \n",
    "\n",
    "Augumented Dickey Fuller Test - ADF Test\n",
    "\n",
    "H0: The time series is non-stationary\n",
    "H1: The time series is stationary"
   ]
  },
  {
   "cell_type": "code",
   "execution_count": 7,
   "id": "3bd1d51c-fd4d-4c0f-abc8-8f7b9b8e7f00",
   "metadata": {},
   "outputs": [],
   "source": [
    "#### Function for stationarity\n",
    "### Import necessary library\n",
    "from statsmodels.tsa.stattools import adfuller\n",
    "\n",
    "def adftest(dz):\n",
    "    \n",
    "    result = adfuller(dz)\n",
    "    return result[1]  # Return p-value"
   ]
  },
  {
   "cell_type": "markdown",
   "id": "b6639f15-391f-44ac-98fe-5633c93d9c17",
   "metadata": {},
   "source": [
    "#### Check for stationarity"
   ]
  },
  {
   "cell_type": "code",
   "execution_count": 8,
   "id": "18ede068-5548-45a3-a848-0c7bc0dd8d1d",
   "metadata": {},
   "outputs": [],
   "source": [
    "def checkstationary(df):\n",
    "    for i in df.columns:\n",
    "        p_val = adftest(df[i])\n",
    "        if p_val < 0.05:\n",
    "            print (\"stationary\")"
   ]
  },
  {
   "cell_type": "code",
   "execution_count": 9,
   "id": "52295856-0a81-458a-b32a-8199e2f193c6",
   "metadata": {},
   "outputs": [
    {
     "name": "stdout",
     "output_type": "stream",
     "text": [
      "stationary\n",
      "stationary\n"
     ]
    }
   ],
   "source": [
    "#### calling the function to check the two series\n",
    "checkstationary(var_df)"
   ]
  },
  {
   "cell_type": "markdown",
   "id": "b60eff22-451c-401a-a3e1-b2e6380133c9",
   "metadata": {},
   "source": [
    "As you can see the two series are stationary, we can proceed further to implement VAR model"
   ]
  },
  {
   "cell_type": "markdown",
   "id": "067660b2-177d-42bf-ac41-3217468de9c1",
   "metadata": {},
   "source": [
    "### LAG Selection"
   ]
  },
  {
   "cell_type": "code",
   "execution_count": 10,
   "id": "a6d5941b-88b8-4f87-aad2-a3dee514f21e",
   "metadata": {},
   "outputs": [],
   "source": [
    "#### Import library for VAR model \n",
    "from statsmodels.tsa.api import VAR\n",
    "\n",
    "def lag_select(dz):\n",
    "    # Fit a VAR model\n",
    "    model = VAR(dz)\n",
    "    lag_selection = model.select_order(maxlags=4)\n",
    "    return lag_selection.summary()"
   ]
  },
  {
   "cell_type": "code",
   "execution_count": 11,
   "id": "30d4fef0-fe2d-4cfd-8b8a-77e1d8001c28",
   "metadata": {},
   "outputs": [
    {
     "name": "stderr",
     "output_type": "stream",
     "text": [
      "c:\\Users\\mayow\\Desktop\\Spillover MSTR-Bitcoin\\venv\\Lib\\site-packages\\statsmodels\\tsa\\base\\tsa_model.py:473: ValueWarning:\n",
      "\n",
      "A date index has been provided, but it has no associated frequency information and so will be ignored when e.g. forecasting.\n",
      "\n"
     ]
    },
    {
     "data": {
      "text/html": [
       "<table class=\"simpletable\">\n",
       "<caption>VAR Order Selection (* highlights the minimums)</caption>\n",
       "<tr>\n",
       "  <td></td>      <th>AIC</th>         <th>BIC</th>         <th>FPE</th>        <th>HQIC</th>    \n",
       "</tr>\n",
       "<tr>\n",
       "  <th>0</th> <td>    -13.77</td>  <td>    -13.76*</td> <td> 1.046e-06</td>  <td>    -13.76*</td>\n",
       "</tr>\n",
       "<tr>\n",
       "  <th>1</th> <td>    -13.78*</td> <td>    -13.74</td>  <td> 1.038e-06*</td> <td>    -13.76</td> \n",
       "</tr>\n",
       "<tr>\n",
       "  <th>2</th> <td>    -13.77</td>  <td>    -13.70</td>  <td> 1.045e-06</td>  <td>    -13.75</td> \n",
       "</tr>\n",
       "<tr>\n",
       "  <th>3</th> <td>    -13.77</td>  <td>    -13.67</td>  <td> 1.049e-06</td>  <td>    -13.73</td> \n",
       "</tr>\n",
       "<tr>\n",
       "  <th>4</th> <td>    -13.76</td>  <td>    -13.64</td>  <td> 1.056e-06</td>  <td>    -13.71</td> \n",
       "</tr>\n",
       "</table>"
      ],
      "text/latex": [
       "\\begin{center}\n",
       "\\begin{tabular}{lcccc}\n",
       "\\toprule\n",
       "           & \\textbf{AIC} & \\textbf{BIC} & \\textbf{FPE} & \\textbf{HQIC}  \\\\\n",
       "\\midrule\n",
       "\\textbf{0} &      -13.77  &     -13.76*  &   1.046e-06  &      -13.76*   \\\\\n",
       "\\textbf{1} &     -13.78*  &      -13.74  &  1.038e-06*  &       -13.76   \\\\\n",
       "\\textbf{2} &      -13.77  &      -13.70  &   1.045e-06  &       -13.75   \\\\\n",
       "\\textbf{3} &      -13.77  &      -13.67  &   1.049e-06  &       -13.73   \\\\\n",
       "\\textbf{4} &      -13.76  &      -13.64  &   1.056e-06  &       -13.71   \\\\\n",
       "\\bottomrule\n",
       "\\end{tabular}\n",
       "%\\caption{VAR Order Selection (* highlights the minimums)}\n",
       "\\end{center}"
      ],
      "text/plain": [
       "<class 'statsmodels.iolib.table.SimpleTable'>"
      ]
     },
     "execution_count": 11,
     "metadata": {},
     "output_type": "execute_result"
    }
   ],
   "source": [
    "lag_select(var_df)"
   ]
  },
  {
   "cell_type": "markdown",
   "id": "6f7050ed-0482-4548-aba4-36f4e60f158e",
   "metadata": {},
   "source": [
    "In case of more lags, the number of data points required to fit VAR model would be more. \n",
    "\n",
    "In our case we will settle down to choosing \"1\" Lag\n",
    "\n"
   ]
  },
  {
   "cell_type": "markdown",
   "id": "15a6bf28-cfe5-4a2b-87dc-c968d643d634",
   "metadata": {},
   "source": [
    "### Fitting VAR"
   ]
  },
  {
   "cell_type": "code",
   "execution_count": 12,
   "id": "02705c8d-95ab-45d1-8430-d8596e3b63a7",
   "metadata": {},
   "outputs": [],
   "source": [
    "def VAR_fit(dz,lag_order):\n",
    "    # Fit a VAR model\n",
    "    model = VAR(dz)\n",
    "    fitted_model = model.fit(lag_order)\n",
    "    return fitted_model"
   ]
  },
  {
   "cell_type": "code",
   "execution_count": 13,
   "id": "f5398858-fd48-4b6e-b34b-f65eb004ed66",
   "metadata": {},
   "outputs": [
    {
     "name": "stderr",
     "output_type": "stream",
     "text": [
      "c:\\Users\\mayow\\Desktop\\Spillover MSTR-Bitcoin\\venv\\Lib\\site-packages\\statsmodels\\tsa\\base\\tsa_model.py:473: ValueWarning:\n",
      "\n",
      "A date index has been provided, but it has no associated frequency information and so will be ignored when e.g. forecasting.\n",
      "\n"
     ]
    }
   ],
   "source": [
    "#### Calling the VAR function \n",
    "var_model_fit = VAR_fit(var_df,1)"
   ]
  },
  {
   "cell_type": "code",
   "execution_count": 14,
   "id": "28c44501-5ede-4d38-b190-db5de27513a4",
   "metadata": {},
   "outputs": [
    {
     "data": {
      "text/plain": [
       "  Summary of Regression Results   \n",
       "==================================\n",
       "Model:                         VAR\n",
       "Method:                        OLS\n",
       "Date:           Fri, 27, Jun, 2025\n",
       "Time:                     22:07:58\n",
       "--------------------------------------------------------------------\n",
       "No. of Equations:         2.00000    BIC:                   -13.7439\n",
       "Nobs:                     660.000    HQIC:                  -13.7689\n",
       "Log likelihood:           2681.98    FPE:                1.03121e-06\n",
       "AIC:                     -13.7848    Det(Omega_mle):     1.02190e-06\n",
       "--------------------------------------------------------------------\n",
       "Results for equation MSTR\n",
       "=============================================================================\n",
       "                coefficient       std. error           t-stat            prob\n",
       "-----------------------------------------------------------------------------\n",
       "const              0.000152         0.000820            0.185           0.853\n",
       "L1.MSTR           -0.082773         0.038706           -2.139           0.032\n",
       "L1.Bitcoin         0.044281         0.017086            2.592           0.010\n",
       "=============================================================================\n",
       "\n",
       "Results for equation Bitcoin\n",
       "=============================================================================\n",
       "                coefficient       std. error           t-stat            prob\n",
       "-----------------------------------------------------------------------------\n",
       "const             -0.000397         0.001870           -0.212           0.832\n",
       "L1.MSTR            0.035746         0.088305            0.405           0.686\n",
       "L1.Bitcoin        -0.048094         0.038981           -1.234           0.217\n",
       "=============================================================================\n",
       "\n",
       "Correlation matrix of residuals\n",
       "               MSTR   Bitcoin\n",
       "MSTR       1.000000  0.031171\n",
       "Bitcoin    0.031171  1.000000\n",
       "\n"
      ]
     },
     "execution_count": 14,
     "metadata": {},
     "output_type": "execute_result"
    }
   ],
   "source": [
    "var_model_fit.summary()"
   ]
  },
  {
   "cell_type": "markdown",
   "id": "bf54d299-cc87-4a99-a3d7-cb5b5c5a8ced",
   "metadata": {},
   "source": [
    "Try to interpret the results"
   ]
  },
  {
   "cell_type": "markdown",
   "id": "94fbaecc-fd6a-4297-a24f-af4c369fc0fd",
   "metadata": {},
   "source": [
    "### Diagnostics "
   ]
  },
  {
   "cell_type": "markdown",
   "id": "27701103-a97f-490a-9d45-5602ed761108",
   "metadata": {},
   "source": [
    "#### serial correlation\n"
   ]
  },
  {
   "cell_type": "code",
   "execution_count": 15,
   "id": "3d7deacf-11f1-46c9-b283-e2c8755ca30e",
   "metadata": {},
   "outputs": [],
   "source": [
    " # Fit a VAR model\n",
    "from statsmodels.stats.stattools import durbin_watson\n",
    "\n",
    "\n",
    "# Ljung-Box test for autocorrelation in the residuals\n",
    "def serial_corr(var_fit):\n",
    "    ser_out = durbin_watson(var_fit.resid)\n",
    "    return ser_out"
   ]
  },
  {
   "cell_type": "code",
   "execution_count": 16,
   "id": "7cebef51-c792-490d-9f69-7c229d96b48b",
   "metadata": {},
   "outputs": [],
   "source": [
    "#ser_output = serial_corr(var_model_fit,10)\n",
    "ser_out = serial_corr(var_model_fit)"
   ]
  },
  {
   "cell_type": "code",
   "execution_count": 17,
   "id": "2061066b-bae7-495e-adb9-b5538797b44e",
   "metadata": {},
   "outputs": [
    {
     "data": {
      "text/plain": [
       "array([2.00605784, 1.99684777])"
      ]
     },
     "execution_count": 17,
     "metadata": {},
     "output_type": "execute_result"
    }
   ],
   "source": [
    "ser_out"
   ]
  },
  {
   "cell_type": "markdown",
   "id": "69c9992e-5bc3-4e06-a30a-15130b8b3c72",
   "metadata": {},
   "source": [
    "The value of this statistic can vary between 0 and 4. The closer it is to the value 2, then there is no significant serial correlation. The closer to 0, there is a positive serial correlation, and the closer it is to 4 implies negative serial correlation."
   ]
  },
  {
   "cell_type": "markdown",
   "id": "4bf864f4-cef1-4657-b8b6-ffe4c873c740",
   "metadata": {},
   "source": [
    "#### Normality of residuals"
   ]
  },
  {
   "cell_type": "markdown",
   "id": "96dc2c87-b290-4067-b144-41f78f175ef9",
   "metadata": {},
   "source": [
    "var_model_fit.test_normality().summary()"
   ]
  },
  {
   "cell_type": "markdown",
   "id": "12f322f1-1829-4cc3-843e-67911034c0d5",
   "metadata": {},
   "source": [
    "## Features of VAR"
   ]
  },
  {
   "cell_type": "markdown",
   "id": "c0c7063e-9949-44cd-aebc-fe40e21a779e",
   "metadata": {},
   "source": [
    "### Granger Causality"
   ]
  },
  {
   "cell_type": "code",
   "execution_count": 18,
   "id": "dc63e2f8-e163-4e45-8cb3-e21218ee6eb7",
   "metadata": {},
   "outputs": [
    {
     "name": "stdout",
     "output_type": "stream",
     "text": [
      "\n",
      "Granger Causality Tests:\n",
      "       Bitcoin causes MSTR  MSTR causes Bitcoin\n",
      "Lag 1               0.0098               0.6858\n"
     ]
    },
    {
     "name": "stderr",
     "output_type": "stream",
     "text": [
      "c:\\Users\\mayow\\Desktop\\Spillover MSTR-Bitcoin\\venv\\Lib\\site-packages\\statsmodels\\tsa\\stattools.py:1556: FutureWarning:\n",
      "\n",
      "verbose is deprecated since functions should not print results\n",
      "\n",
      "c:\\Users\\mayow\\Desktop\\Spillover MSTR-Bitcoin\\venv\\Lib\\site-packages\\statsmodels\\tsa\\stattools.py:1556: FutureWarning:\n",
      "\n",
      "verbose is deprecated since functions should not print results\n",
      "\n"
     ]
    }
   ],
   "source": [
    "from statsmodels.tsa.stattools import grangercausalitytests\n",
    "\n",
    "# Granger Causality Tests\n",
    "def granger_causality_tests(data, variables, max_lag):\n",
    "    results = {}\n",
    "    for var1 in variables:\n",
    "        for var2 in variables:\n",
    "            if var1 != var2:\n",
    "                test_result = grangercausalitytests(data[[var1, var2]], max_lag, verbose=False)\n",
    "                p_values = [round(test[0]['ssr_ftest'][1], 4) for test in test_result.values()]\n",
    "                results[f\"{var2} causes {var1}\"] = p_values\n",
    "    return pd.DataFrame(results, index=[f\"Lag {i+1}\" for i in range(max_lag)])\n",
    "\n",
    "print(\"\\nGranger Causality Tests:\")\n",
    "causality_results = granger_causality_tests(var_df, var_df.columns, 1)\n",
    "print(causality_results)\n"
   ]
  },
  {
   "cell_type": "code",
   "execution_count": 19,
   "id": "cabb9979",
   "metadata": {},
   "outputs": [
    {
     "name": "stdout",
     "output_type": "stream",
     "text": [
      "\n",
      "Granger Causality\n",
      "number of lags (no zero) 1\n",
      "ssr based F test:         F=6.7166  , p=0.0098  , df_denom=657, df_num=1\n",
      "ssr based chi2 test:   chi2=6.7472  , p=0.0094  , df=1\n",
      "likelihood ratio test: chi2=6.7130  , p=0.0096  , df=1\n",
      "parameter F test:         F=6.7166  , p=0.0098  , df_denom=657, df_num=1\n",
      "\n",
      "Granger Causality\n",
      "number of lags (no zero) 1\n",
      "ssr based F test:         F=0.1639  , p=0.6858  , df_denom=657, df_num=1\n",
      "ssr based chi2 test:   chi2=0.1646  , p=0.6849  , df=1\n",
      "likelihood ratio test: chi2=0.1646  , p=0.6850  , df=1\n",
      "parameter F test:         F=0.1639  , p=0.6858  , df_denom=657, df_num=1\n"
     ]
    },
    {
     "data": {
      "text/plain": [
       "{np.int64(1): ({'ssr_ftest': (np.float64(0.1638671388103298),\n",
       "    np.float64(0.685752567847192),\n",
       "    np.float64(657.0),\n",
       "    np.int64(1)),\n",
       "   'ssr_chi2test': (np.float64(0.16461539058571942),\n",
       "    np.float64(0.6849423030182882),\n",
       "    np.int64(1)),\n",
       "   'lrtest': (np.float64(0.16459486503845255),\n",
       "    np.float64(0.684960891314391),\n",
       "    np.int64(1)),\n",
       "   'params_ftest': (np.float64(0.16386713881033185),\n",
       "    np.float64(0.685752567847192),\n",
       "    np.float64(657.0),\n",
       "    1.0)},\n",
       "  [<statsmodels.regression.linear_model.RegressionResultsWrapper at 0x1a122757a10>,\n",
       "   <statsmodels.regression.linear_model.RegressionResultsWrapper at 0x1a124d179b0>,\n",
       "   array([[0., 1., 0.]])])}"
      ]
     },
     "execution_count": 19,
     "metadata": {},
     "output_type": "execute_result"
    }
   ],
   "source": [
    "grangercausalitytests(var_df[['MSTR', 'Bitcoin']], maxlag=1)  # Tests if Bitcoin causes MSTR\n",
    "grangercausalitytests(var_df[['Bitcoin', 'MSTR']], maxlag=1)  # Tests if MSTR causes Bitcoin"
   ]
  },
  {
   "cell_type": "markdown",
   "id": "a748cf25-7b48-403b-8ee1-61aa45a2e03a",
   "metadata": {},
   "source": [
    "Reject Null Hypothesis for MSTR causes Bitcoin but\n",
    "Fail to reject Null Hypothesis for Bitcoin causes MSTR."
   ]
  },
  {
   "cell_type": "markdown",
   "id": "1cd12e82-7283-4e72-81ad-42bd7b5e338d",
   "metadata": {},
   "source": [
    "### Impulse Response"
   ]
  },
  {
   "cell_type": "code",
   "execution_count": 20,
   "id": "52dc3585-64d6-47a4-be59-0a58a2ab4f6c",
   "metadata": {},
   "outputs": [
    {
     "data": {
      "image/png": "[encoded data removed]",
      "text/plain": [
       "<Figure size 1000x1000 with 4 Axes>"
      ]
     },
     "metadata": {},
     "output_type": "display_data"
    }
   ],
   "source": [
    "# Impulse Response Function\n",
    "import matplotlib.pyplot as plt\n",
    "\n",
    "irf = var_model_fit.irf(10)  # IRF for 10 periods\n",
    "irf.plot(orth=False)\n",
    "plt.show()"
   ]
  },
  {
   "cell_type": "markdown",
   "id": "26cc5dac-9698-47ff-85c5-9fc776231892",
   "metadata": {},
   "source": [
    "## Forecasting with the VAR "
   ]
  },
  {
   "cell_type": "code",
   "execution_count": 21,
   "id": "b5f91d29-fa67-472f-95ff-c10aa4408800",
   "metadata": {},
   "outputs": [
    {
     "data": {
      "text/plain": [
       "array([[-0.00040455,  0.00060195],\n",
       "       [ 0.00021182, -0.00044068],\n",
       "       [ 0.00011463, -0.00036851],\n",
       "       [ 0.00012588, -0.00037545],\n",
       "       [ 0.00012464, -0.00037472]])"
      ]
     },
     "execution_count": 21,
     "metadata": {},
     "output_type": "execute_result"
    }
   ],
   "source": [
    "# Forecasting using the VAR model\n",
    "forecast_steps = 5  # Number of steps to forecast\n",
    "lags = 1\n",
    "\n",
    "var_model_fit.forecast(var_df.values[-lags:], forecast_steps)"
   ]
  },
  {
   "cell_type": "markdown",
   "id": "f939bb57-5e14-406c-ad8d-97504bc65606",
   "metadata": {},
   "source": [
    "#### Error in Forecast and its connection with Spillover"
   ]
  },
  {
   "cell_type": "code",
   "execution_count": 22,
   "id": "06e61f80-4c40-44d1-a699-2bd7289e4acb",
   "metadata": {},
   "outputs": [],
   "source": [
    "def spill_func(var_fit, forecast_steps):\n",
    "    sigma_u = np.asarray(var_fit.sigma_u)\n",
    "    sd_u = np.sqrt(np.diag(sigma_u))\n",
    "    fevd = var_fit.fevd(forecast_steps, sigma_u / sd_u)\n",
    "\n",
    "    fe = fevd.decomp[:,-1,:]\n",
    "    fevd_normalized = (fe / fe.sum(1)[:,None] * 100)\n",
    "\n",
    "    return fevd_normalized\n",
    "\n",
    "##### Save this \n",
    "spill_matrix = spill_func(var_model_fit, forecast_steps)\n"
   ]
  },
  {
   "cell_type": "markdown",
   "id": "65546bae-13e2-4761-998c-62fe538725bf",
   "metadata": {},
   "source": [
    "### Market Interconnectedness and Spillover"
   ]
  },
  {
   "cell_type": "code",
   "execution_count": 23,
   "id": "4584694b-0774-45f9-aad8-004b1b9ab35b",
   "metadata": {},
   "outputs": [
    {
     "name": "stderr",
     "output_type": "stream",
     "text": [
      "c:\\Users\\mayow\\Desktop\\Spillover MSTR-Bitcoin\\venv\\Lib\\site-packages\\statsmodels\\tsa\\base\\tsa_model.py:473: ValueWarning:\n",
      "\n",
      "A date index has been provided, but it has no associated frequency information and so will be ignored when e.g. forecasting.\n",
      "\n"
     ]
    }
   ],
   "source": [
    "spill_df = var_df\n",
    "\n",
    "lag_order = 1\n",
    "### Calling the VAR\n",
    "spill_fit = VAR_fit(spill_df,lag_order)"
   ]
  },
  {
   "cell_type": "code",
   "execution_count": 24,
   "id": "23e8e16a-ecd3-42dd-a38f-03c3a0385718",
   "metadata": {},
   "outputs": [],
   "source": [
    "#### calling the spill function to create spillover matrix \n",
    "forecast_steps = 10\n",
    "spill_matrix = spill_func(spill_fit, forecast_steps)"
   ]
  },
  {
   "cell_type": "code",
   "execution_count": 25,
   "id": "e34e4099-2655-4c1d-96c4-739a4b419614",
   "metadata": {},
   "outputs": [
    {
     "data": {
      "text/plain": [
       "array([[98.9350448 ,  1.0649552 ],\n",
       "       [ 0.11721284, 99.88278716]])"
      ]
     },
     "execution_count": 25,
     "metadata": {},
     "output_type": "execute_result"
    }
   ],
   "source": [
    "spill_matrix"
   ]
  },
  {
   "cell_type": "code",
   "execution_count": 26,
   "id": "0af7f34d-a4f5-4a99-9fbd-bdcaa8de5921",
   "metadata": {},
   "outputs": [],
   "source": [
    "#### export the output\n",
    "np.savetxt('spill_1.csv', (spill_matrix), delimiter=',')"
   ]
  },
  {
   "cell_type": "code",
   "execution_count": 27,
   "id": "cb40ba53-3ba7-48f8-8fe4-0f710dd95e7e",
   "metadata": {},
   "outputs": [
    {
     "data": {
      "text/plain": [
       "numpy.ndarray"
      ]
     },
     "execution_count": 27,
     "metadata": {},
     "output_type": "execute_result"
    }
   ],
   "source": [
    "type(spill_matrix)"
   ]
  },
  {
   "cell_type": "code",
   "execution_count": null,
   "id": "5cafc567-f24a-45cf-a655-dfb07ecd15fa",
   "metadata": {},
   "outputs": [
    {
     "name": "stderr",
     "output_type": "stream",
     "text": [
      "2025-06-27 23:07:55,982 - INFO     - Executing shutdown due to inactivity...\n",
      "2025-06-27 23:08:08,758 - INFO     - Executing shutdown...\n",
      "2025-06-27 23:08:08,766 - INFO     - Not running with the Werkzeug Server, exiting by searching gc for BaseWSGIServer\n"
     ]
    }
   ],
   "source": [
    "# Convert numpy ndarray to pandas DataFrame\n",
    "spill_out = pd.DataFrame(spill_matrix, columns=[f'Column{i+1}' for i in range(spill_matrix.shape[1])])\n",
    "\n",
    "# Export the DataFrame to an Excel file\n",
    "spill_out.to_excel('spill_1.xlsx', index=False, engine='openpyxl')"
   ]
  }
 ],
 "metadata": {
  "kernelspec": {
   "display_name": "venv",
   "language": "python",
   "name": "python3"
  },
  "language_info": {
   "codemirror_mode": {
    "name": "ipython",
    "version": 3
   },
   "file_extension": ".py",
   "mimetype": "text/x-python",
   "name": "python",
   "nbconvert_exporter": "python",
   "pygments_lexer": "ipython3",
   "version": "3.12.0"
  }
 },
 "nbformat": 4,
 "nbformat_minor": 5
}
